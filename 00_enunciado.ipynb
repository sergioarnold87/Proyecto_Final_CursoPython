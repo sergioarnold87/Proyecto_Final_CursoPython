{
  "nbformat": 4,
  "nbformat_minor": 0,
  "metadata": {
    "colab": {
      "name": "00-enunciado.ipynb",
      "provenance": [],
      "collapsed_sections": [],
      "toc_visible": true
    },
    "kernelspec": {
      "name": "python3",
      "display_name": "Python 3"
    }
  },
  "cells": [
    {
      "cell_type": "markdown",
      "metadata": {
        "id": "mp35MDSzB0PR"
      },
      "source": [
        "# Apylabrados: el juego de palabras\n"
      ]
    },
    {
      "cell_type": "markdown",
      "metadata": {
        "id": "iOeCfLkJJuoy"
      },
      "source": [
        "## Objetivos\n",
        "\n",
        "Implementar un programa que permita al usuario jugar de forma individual al juego de palabras conocido como Apylabrados."
      ]
    },
    {
      "cell_type": "markdown",
      "metadata": {
        "id": "EH14Y5QOCBdi"
      },
      "source": [
        "## Normas del juego\n",
        "\n",
        "* En este juego sólo juega un jugador. El objetivo es conseguir poner el número máximo de puntos.\n",
        "* El tablero de juego consta de 15 filas por 15 columnas.\n",
        "* El tablero tiene un total de 225 casillas que pueden contener una letra o estar vacías. Al empezar el juego, el tablero debe estar vacío.\n",
        "* La casilla central del tablero es especial, pues es la casilla donde debe situarse la primera palabra. Es decir, al menos una de las fichas que conformen la primera palabra debe situarse en la casilla central.\n",
        "* Se dispone de las siguientes fichas:\n",
        "\n",
        "| Ficha | Total | | Ficha | Total | | Ficha | Total | \n",
        "| :---: | :---: | | :---: | :---: | | :---: | :---: |\n",
        "| A | 12 | | J | 1 | | S | 7 |\n",
        "| B | 2 | | K | 1 | | T | 4 |\n",
        "| C | 4 | | L | 4 | | U | 6 |\n",
        "| D | 5 | | M | 3 | | V | 1 | \n",
        "| E | 12 | | N | 5 | | W | 1 |\n",
        "| F | 2 | | O | 9 | | X | 1 | \n",
        "| G | 2 | | P | 2 | | Y | 1 | \n",
        "| H | 2 | | Q | 1 | | Z | 1 | \n",
        "| I | 6 | | R | 5 | |  |  | \n",
        "\n",
        "* Cada ficha tiene la siguiente puntuación:\n",
        "\n",
        "| Ficha | Puntuación | | Ficha | Puntuación | | Ficha | Puntuación | \n",
        "| :---: | :---: | | :---: | :---: | | :---: | :---: | \n",
        "| A | 1 | | J | 8 | | S | 1 |\n",
        "| B | 3 | | K | 5 | | T | 1 |\n",
        "| C | 3 | | L | 1 | | U | 1 |\n",
        "| D | 2 | | M | 3 | | V | 4 | \n",
        "| E | 1 | | N | 1 | | W | 4 |\n",
        "| F | 4 | | O | 1 | | X | 8 | \n",
        "| G | 2 | | P | 3 | | Y | 4 | \n",
        "| H | 4 | | Q | 10 | | Z | 10 | \n",
        "| I | 1 | | R | 1 | |  |  | \n",
        "\n",
        "* Cuando empieza el juego, se deben seleccionar 7 fichas de manera aleatoria, teniendo en cuenta que el total de fichas es 100.\n",
        "* En cada turno, se debe mostrar al usuario las fichas de las que dispone para poder formar una nueva palabra y colocarla en el tablero. Como se dijo anteriormente, la primera palabra debe tener al menos una ficha sobre la casilla central.\n",
        "* Para poder colocar una palabra nueva en el tablero, el usuario deberá indicar la fila y la columna donde colorcar la primera ficha de la palabra y la dirección (vertical u horizontal) en la que se colocará la palabra. La casilla superior izquierda es la casilla (0, 0); la casilla inferior derecha es la (14, 14); la casilla central es la casilla (7, 7).\n",
        "* El programa debe verificar que la palabra puede situarse en el tablero. La verificación consiste en:\n",
        "  - Comprobar que la palabra exite, mediante su búsqueda en un diccionario (será un fichero de texto).\n",
        "  - Validar que la palabra cabe en el tablero sin superar los márgenes.\n",
        "  - Comprobar que la nueva palabra añade al menos una nueva ficha al tablero.\n",
        "  - Validar que la nueva palabra no sobreescribe fichas ya existentes sobre el tablero.\n",
        "  - Comprobar que se usa al menos una ficha de las ya existentes sobre el tablero. Si se trata de la primera palabra, validar que pasa por la casilla central.\n",
        "  - Validar que se puede formar la palabra en cuestión con las fichas del jugador y las que ya se encuentran sobre el tablero\n",
        "* Tras cada palabra colocada, se deben proporcionar nuevas fichas al jugador, tantas como haya utilizado para que vuelva a tener un total de 7 fichas disponibles.\n",
        "* Tras cada palabra colocada, se debe mostrar la puntuación del jugador. Añadir tras cada jugada la puntuación de las nuevas fichas colocadas sobre el tablero a la puntuación del jugador.\n",
        "* El usuario puede solicitar la información sobre la puntuación de cada ficha.\n",
        "* El usuario puede solicitar ayuda al programa para comprobar si exite alguna colocación para la palabra dada. El programa devolverá todas las posibles posiciones para dicha palabra sobre el tablero, teniendo en cuenta la configuración en la que se encuentre.\n",
        "* El usuario puede solicitar ayuda al programa para comprobar si puede formar alguna palabra con las fichas de las cuales dispone. El programa devolverá todas las posibles palabras que se puedan formar con las 7 letras del jugador y las letras que haya sobre el tablero haciendo uso del diccionario.\n",
        "  "
      ]
    },
    {
      "cell_type": "markdown",
      "metadata": {
        "id": "afVT2MuaJwKh"
      },
      "source": [
        "## Información adicional\n",
        "\n",
        "* El diccionario de palabras es un fichero de texto que contiene todas las palabras que se pueden formar. Cada palabra se encuentra en una línea del fichero. Las palabras están en mayúsculas.\n",
        "* Si la palabra no se encuentra en el diccionario, entonces dicha palabra no es válida y no puede situarse sobre el tablero.\n",
        "* Se proporcionará un fichero de ejemplo, pero es posible utilizar cualquier otro diccionario que se considere."
      ]
    }
  ]
}