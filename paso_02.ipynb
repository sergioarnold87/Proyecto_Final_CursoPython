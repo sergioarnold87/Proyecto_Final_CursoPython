{
  "nbformat": 4,
  "nbformat_minor": 0,
  "metadata": {
    "colab": {
      "name": "paso-02.ipynb",
      "provenance": [],
      "collapsed_sections": [],
      "toc_visible": true
    },
    "kernelspec": {
      "name": "python3",
      "display_name": "Python 3"
    }
  },
  "cells": [
    {
      "cell_type": "markdown",
      "metadata": {
        "id": "xJEWnvyiku9E"
      },
      "source": [
        "# Paso 2\n",
        "\n",
        "* Crea un notebook y llámalo `main`. Será nuestro programa principal.\n",
        "* En una celda de código, crea un objeto de la clase `Pawns` (deberás cargar el script que contiene dicha clase) llamado `bag_of_pawns`.\n",
        "* Llama al método `.createBag()` y muestra las fichas que contiene con el método `.showPawns()`."
      ]
    }
  ]
}