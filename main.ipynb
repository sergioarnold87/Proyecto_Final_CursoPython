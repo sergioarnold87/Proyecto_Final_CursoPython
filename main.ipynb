{
  "nbformat": 4,
  "nbformat_minor": 0,
  "metadata": {
    "colab": {
      "name": "main.ipynb",
      "provenance": [],
      "collapsed_sections": []
    },
    "kernelspec": {
      "name": "python3",
      "display_name": "Python 3"
    },
    "language_info": {
      "name": "python"
    }
  },
  "cells": [
    {
      "cell_type": "markdown",
      "metadata": {
        "id": "U5JHIzqyuBQQ"
      },
      "source": [
        "# Apylabrados"
      ]
    },
    {
      "cell_type": "markdown",
      "metadata": {
        "id": "mHtLFmzjuFVa"
      },
      "source": [
        "## Acceso al Drive"
      ]
    },
    {
      "cell_type": "code",
      "metadata": {
        "colab": {
          "base_uri": "https://localhost:8080/"
        },
        "id": "BlLVR9AjtmAG",
        "outputId": "9b64917d-10e2-4933-9b89-8ce3eb849e9b"
      },
      "source": [
        "from google.colab import drive\n",
        "drive.mount('/content/drive')"
      ],
      "execution_count": null,
      "outputs": [
        {
          "output_type": "stream",
          "name": "stdout",
          "text": [
            "Mounted at /content/drive\n"
          ]
        }
      ]
    },
    {
      "cell_type": "code",
      "metadata": {
        "colab": {
          "base_uri": "https://localhost:8080/"
        },
        "id": "ux9lfi1V4zn4",
        "outputId": "fdd56811-52f3-468c-9c3e-e789af6005c6"
      },
      "source": [
        "%cd \"/content/drive/MyDrive/Proyecto_Final_CursoPython\""
      ],
      "execution_count": null,
      "outputs": [
        {
          "output_type": "stream",
          "name": "stdout",
          "text": [
            "/content/drive/MyDrive/Proyecto_Final_CursoPython\n"
          ]
        }
      ]
    },
    {
      "cell_type": "markdown",
      "metadata": {
        "id": "PmIIp4f4uATV"
      },
      "source": [
        "# Clases necesarias"
      ]
    },
    {
      "cell_type": "code",
      "metadata": {
        "id": "Wndeyd8x6neJ"
      },
      "source": [
        "from ApylabradosModule import Pawns"
      ],
      "execution_count": null,
      "outputs": []
    },
    {
      "cell_type": "markdown",
      "metadata": {
        "id": "JxqOwM9M-mD-"
      },
      "source": [
        "# Programa principal"
      ]
    },
    {
      "cell_type": "code",
      "metadata": {
        "colab": {
          "base_uri": "https://localhost:8080/"
        },
        "id": "91wiTfDX-kBm",
        "outputId": "6e9796a8-6cdf-444b-969e-ded7ab2c58a0"
      },
      "source": [
        "bag_of_pawns = Pawns()\n",
        "bag_of_pawns.createBag()\n",
        "bag_of_pawns.showPawns()"
      ],
      "execution_count": null,
      "outputs": [
        {
          "output_type": "stream",
          "text": [
            "A: 12\n",
            "B: 2\n",
            "C: 4\n",
            "D: 5\n",
            "E: 12\n",
            "F: 2\n",
            "G: 2\n",
            "H: 2\n",
            "I: 6\n",
            "J: 1\n",
            "K: 1\n",
            "L: 4\n",
            "M: 3\n",
            "N: 5\n",
            "O: 9\n",
            "P: 2\n",
            "Q: 1\n",
            "R: 5\n",
            "S: 7\n",
            "T: 4\n",
            "U: 6\n",
            "V: 1\n",
            "W: 1\n",
            "X: 1\n",
            "Y: 1\n",
            "Z: 1\n"
          ],
          "name": "stdout"
        }
      ]
    },
    {
      "cell_type": "code",
      "metadata": {
        "colab": {
          "base_uri": "https://localhost:8080/"
        },
        "id": "rUmPsMjv7jte",
        "outputId": "2efbd778-719d-4096-ebc8-38d33f50fcd8"
      },
      "source": [
        "# Probar \n",
        "taken_pawn = bag_of_pawns.takeRandomPawn()\n",
        "print(taken_pawn)\n",
        "bag_of_pawns.showPawns()"
      ],
      "execution_count": null,
      "outputs": [
        {
          "output_type": "stream",
          "text": [
            "L\n",
            "A: 12\n",
            "B: 2\n",
            "C: 4\n",
            "D: 5\n",
            "E: 12\n",
            "F: 2\n",
            "G: 2\n",
            "H: 2\n",
            "I: 6\n",
            "J: 1\n",
            "K: 1\n",
            "L: 3\n",
            "M: 3\n",
            "N: 5\n",
            "O: 9\n",
            "P: 2\n",
            "Q: 1\n",
            "R: 5\n",
            "S: 7\n",
            "T: 4\n",
            "U: 6\n",
            "V: 1\n",
            "W: 1\n",
            "X: 1\n",
            "Y: 1\n",
            "Z: 1\n"
          ],
          "name": "stdout"
        }
      ]
    },
    {
      "cell_type": "code",
      "metadata": {
        "colab": {
          "base_uri": "https://localhost:8080/"
        },
        "id": "Ib7JPxS7_BKg",
        "outputId": "f5390f80-c1fe-4b93-e422-9532e1d5db90"
      },
      "source": [
        "# Tomar 7 fichas y la guardamos en player_pawns\n",
        "player_pawns = Pawns()\n",
        "for _ in range(7):\n",
        "  player_pawns.addPawn(bag_of_pawns.takeRandomPawn())\n",
        "\n",
        "  player_pawns.showPawns()"
      ],
      "execution_count": null,
      "outputs": [
        {
          "output_type": "stream",
          "text": [
            "A: 1\n",
            "A: 1\n",
            "W: 1\n",
            "A: 1\n",
            "W: 1\n",
            "O: 1\n",
            "A: 1\n",
            "W: 1\n",
            "O: 1\n",
            "B: 1\n",
            "A: 1\n",
            "W: 1\n",
            "O: 1\n",
            "B: 1\n",
            "C: 1\n",
            "A: 1\n",
            "W: 1\n",
            "O: 1\n",
            "B: 1\n",
            "C: 1\n",
            "R: 1\n",
            "A: 1\n",
            "W: 1\n",
            "O: 1\n",
            "B: 1\n",
            "C: 1\n",
            "R: 2\n"
          ],
          "name": "stdout"
        }
      ]
    },
    {
      "cell_type": "code",
      "metadata": {
        "id": "-yI3_mVQBAQZ",
        "colab": {
          "base_uri": "https://localhost:8080/"
        },
        "outputId": "eec8676b-3029-4fb6-f8ad-7a3b5b78b859"
      },
      "source": [
        "bag_of_pawns.showPawns()"
      ],
      "execution_count": null,
      "outputs": [
        {
          "output_type": "stream",
          "text": [
            "A: 11\n",
            "B: 1\n",
            "C: 3\n",
            "D: 5\n",
            "E: 12\n",
            "F: 2\n",
            "G: 2\n",
            "H: 2\n",
            "I: 6\n",
            "J: 1\n",
            "K: 1\n",
            "L: 3\n",
            "M: 3\n",
            "N: 5\n",
            "O: 8\n",
            "P: 2\n",
            "Q: 1\n",
            "R: 3\n",
            "S: 7\n",
            "T: 4\n",
            "U: 6\n",
            "V: 1\n",
            "X: 1\n",
            "Y: 1\n",
            "Z: 1\n"
          ],
          "name": "stdout"
        }
      ]
    },
    {
      "cell_type": "code",
      "metadata": {
        "id": "h4KP5um2BCrz"
      },
      "source": [
        ""
      ],
      "execution_count": null,
      "outputs": []
    }
  ]
}