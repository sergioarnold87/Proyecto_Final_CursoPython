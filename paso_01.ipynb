{
  "nbformat": 4,
  "nbformat_minor": 0,
  "metadata": {
    "colab": {
      "name": "paso-01.ipynb",
      "provenance": [],
      "collapsed_sections": []
    },
    "kernelspec": {
      "name": "python3",
      "display_name": "Python 3"
    }
  },
  "cells": [
    {
      "cell_type": "markdown",
      "metadata": {
        "id": "NaUJ5akRjQOZ"
      },
      "source": [
        "# Paso 1\n",
        "\n",
        "* Crea el script `ApylabradosModule.py`.\n",
        "\n",
        "* Crea la clase `Pawns` en el script llamado `ApylabradosModule.py`. \n",
        "* El constructor debe contener un atributo `letters` que será un array de caracteres inicialmente vacío.\n",
        "* En la clase `Pawns`, construye el método `.addPawn()` que recibirá un caracter `c` y lo añadirá al conjunto de fichas `letters`.\n",
        "* En la clase `Pawns`, construye el método `.addPawns()` que recibirá un caracter `c` y el número de repeticiones `n` y añadirá `n` veces el caracter `c` al conjunto de fichas `letters`. Puedes aprovechar el método `.addPawn()`.\n",
        "* En la clase `Pawns`, construye el método `.createBag()` que creará las fichas descritas en el enunciado. Para este paso, aprovecha el archivo csv `bag_of_pawns.csv` y el método `.addPawns()`. \n",
        "\n",
        "| Ficha | Total | | Ficha | Total | | Ficha | Total | \n",
        "| :---: | :---: | | :---: | :---: | | :---: | :---: |\n",
        "| A | 12 | | J | 1 | | S | 7 |\n",
        "| B | 2 | | K | 1 | | T | 4 |\n",
        "| C | 4 | | L | 4 | | U | 6 |\n",
        "| D | 5 | | M | 3 | | V | 1 | \n",
        "| E | 12 | | N | 5 | | W | 1 |\n",
        "| F | 2 | | O | 9 | | X | 1 | \n",
        "| G | 2 | | P | 2 | | Y | 1 | \n",
        "| H | 2 | | Q | 1 | | Z | 1 | \n",
        "| I | 6 | | R | 5 | |  |  | \n",
        "  \n",
        "* En la clase `Pawns`, construye el método `.showPawns()`, que deberá mostrar por pantalla las fichas que hay en el objeto (el caracter de la ficha y la cantidad de fichas que hay de cada tipo)."
      ]
    }
  ]
}